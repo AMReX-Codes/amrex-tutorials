{
 "cells": [
  {
   "cell_type": "markdown",
   "id": "600be7ab",
   "metadata": {},
   "source": [
    "## Example: AMReX-Pachinko\n",
    "\n",
    "### What Features Are We Using\n",
    "\n",
    "* EB for obstacles \n",
    "* Particle-obstacle and particle-wall collisions \n",
    "\n",
    "### The Problem\n",
    "\n",
    "Have you ever played pachinko?  \n",
    "\n",
    "A pachinko machine is like a vertical pinball machine. \n",
    "\n",
    "Balls are released at the top of the \"playing field\", and bounce off obstacles as they fall.\n",
    "\n",
    "The object of the game is to \"capture\" as many balls as possible.\n",
    "\n",
    "In the AMReX-Pachinko game you can release as many particles as you like at the top of the domain,\n",
    "and the balls will freeze when they hit the bottom so you can see where they landed.\n",
    "\n",
    "Your goal here is to see if you can cover the floor of the pachinko machine.\n",
    "\n",
    "(Note that this is not completely realistic -- the balls here don't feel each other so they can overlap.)\n",
    "\n",
    "In this example there is no fluid (or other variable) stored on the mesh\n",
    "but we still sort the particles according to our spatial decomposition of the domain.\n",
    "If we run in parallel with 4 processors, we see the domain decomposition below -- this results\n",
    "from using a z-order space-filling curve with the number of cells per grid as the cost function.\n",
    "\n",
    "For now we freeze the obstacles (although if you look in the code it's not hard to figure out\n",
    "how to change them!) but we can change the initial particle locations at run-time by editing the\n",
    "initial_particles_3d file."
   ]
  }
 ],
 "metadata": {
  "kernelspec": {
   "display_name": "Python 3",
   "language": "python",
   "name": "python3"
  },
  "language_info": {
   "codemirror_mode": {
    "name": "ipython",
    "version": 3
   },
   "file_extension": ".py",
   "mimetype": "text/x-python",
   "name": "python",
   "nbconvert_exporter": "python",
   "pygments_lexer": "ipython3",
   "version": "3.8.8"
  }
 },
 "nbformat": 4,
 "nbformat_minor": 5
}
