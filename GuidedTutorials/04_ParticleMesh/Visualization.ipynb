{
 "cells": [
  {
   "cell_type": "markdown",
   "id": "1540d072",
   "metadata": {},
   "source": [
    "## Example: Particle Mesh Interpolation\n",
    "\n",
    "### What Features Are We Using\n",
    "\n",
    "* Mesh data\n",
    "* Particle data\n",
    "* Domain Decomposition\n",
    "\n",
    "Thus far we have only encountered mesh data. This example shows how to use particle data \n",
    "and how to interpolate between the particles and the mesh.\n",
    "\n",
    "To tell amrex how many particle components we want, pass in template parameters to `amrex::ParticleContainer`.\n",
    "    \n",
    "```C++\n",
    "  typedef ParticleContainer<1 + 2*AMREX_SPACEDIM> MyParticleContainer;\n",
    "  MyParticleContainer myPC(geom, dmap, ba);\n",
    "```\n",
    "\n",
    "Here we have asked for `1 + 2*AMREX_SPACEDIM` real components per particle, stored in Array-of-Struct fashion.\n",
    "These will represent the mass, three velocity components, and three acceleration components of each particle.\n",
    "\n",
    "We initialize the particle positions randomly throughout the domain, based on a target average number per cell.\n",
    "\n",
    "Particle-mesh operations can be done with the `amrex::ParticleToMesh` and `amrex::MeshToParticle` routines. The type of interpolation to perform is passed in as a lambda function:\n",
    "\n",
    "```C++\n",
    "  amrex::ParticleToMesh(myPC, partMF, 0,\n",
    "      [=] AMREX_GPU_DEVICE (const MyParticleContainer::ParticleType& p,\n",
    "                            amrex::Array4<amrex::Real> const& rho)\n",
    "      {\n",
    "          amrex::Real lx = (p.pos(0) - plo[0]) * dxi[0] + 0.5;\n",
    "          amrex::Real ly = (p.pos(1) - plo[1]) * dxi[1] + 0.5;\n",
    "          amrex::Real lz = (p.pos(2) - plo[2]) * dxi[2] + 0.5;\n",
    "\n",
    "          int i = amrex::Math::floor(lx);\n",
    "          int j = amrex::Math::floor(ly);\n",
    "          int k = amrex::Math::floor(lz);\n",
    "\n",
    "          amrex::Real xint = lx - i;\n",
    "          amrex::Real yint = ly - j;\n",
    "          amrex::Real zint = lz - k;\n",
    "\n",
    "          amrex::Real sx[] = {1.-xint, xint};\n",
    "          amrex::Real sy[] = {1.-yint, yint};\n",
    "          amrex::Real sz[] = {1.-zint, zint};\n",
    "\n",
    "          for (int kk = 0; kk <= 1; ++kk) {\n",
    "              for (int jj = 0; jj <= 1; ++jj) {\n",
    "                  for (int ii = 0; ii <= 1; ++ii) {\n",
    "                      amrex::Gpu::Atomic::AddNoRet(&rho(i+ii-1, j+jj-1, k+kk-1, 0),\n",
    "                                              sx[ii]*sy[jj]*sz[kk]*p.rdata(0));\n",
    "                  }\n",
    "              }\n",
    "          }\n",
    "      }\n",
    "```\n",
    "\n",
    "The above code is for \"Cloud in cell\" interpolation. Under the hood, the deposition algorithm will be changed based on the whether the parallel backend is targetting GPUs or CPUs."
   ]
  },
  {
   "cell_type": "markdown",
   "id": "ec315f02",
   "metadata": {},
   "source": [
    "## Running the code\n",
    "\n",
    "The simulation can be ran as `./04_ParticleMesh inputs`. \n",
    "\n",
    "The following inputs parameters could be tweaked:\n",
    "\n",
    "```\n",
    "nx            = 128 # number of grid points along the x axis\n",
    "ny            = 128 # number of grid points along the y axis\n",
    "nz            = 128 # number of grid points along the z axis\n",
    "max_grid_size = 32  # grid size used for domain decomposition\n",
    "nppc          = 10  # average number of particles per cell     \n",
    "\n",
    "```"
   ]
  },
  {
   "cell_type": "code",
   "execution_count": null,
   "id": "83170d52",
   "metadata": {},
   "outputs": [],
   "source": [
    "import yt"
   ]
  },
  {
   "cell_type": "code",
   "execution_count": null,
   "id": "b1a070d3",
   "metadata": {},
   "outputs": [],
   "source": [
    "ds = yt.load(\"plot\")"
   ]
  },
  {
   "cell_type": "code",
   "execution_count": null,
   "id": "cac891d9",
   "metadata": {},
   "outputs": [],
   "source": [
    "sl = yt.SlicePlot(ds, 2, 'density')"
   ]
  },
  {
   "cell_type": "code",
   "execution_count": null,
   "id": "cdee59ea",
   "metadata": {},
   "outputs": [],
   "source": [
    "sl.annotate_grids()"
   ]
  },
  {
   "cell_type": "code",
   "execution_count": null,
   "id": "e695489d",
   "metadata": {},
   "outputs": [],
   "source": [
    "ad = ds.all_data()\n",
    "ad.quantities.weighted_average_quantity('density', 'cell_volume')"
   ]
  }
 ],
 "metadata": {
  "kernelspec": {
   "display_name": "Python 3",
   "language": "python",
   "name": "python3"
  },
  "language_info": {
   "codemirror_mode": {
    "name": "ipython",
    "version": 3
   },
   "file_extension": ".py",
   "mimetype": "text/x-python",
   "name": "python",
   "nbconvert_exporter": "python",
   "pygments_lexer": "ipython3",
   "version": "3.8.8"
  }
 },
 "nbformat": 4,
 "nbformat_minor": 5
}
