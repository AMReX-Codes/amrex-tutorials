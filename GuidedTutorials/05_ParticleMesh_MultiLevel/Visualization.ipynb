{
 "cells": [
  {
   "cell_type": "markdown",
   "id": "ee0b42ec",
   "metadata": {},
   "source": [
    "## Example: Particle Mesh Interpolation with multiple levels\n",
    "\n",
    "### What Features Are We Using\n",
    "\n",
    "* Mesh data\n",
    "* Particle data\n",
    "* Static mesh refinement\n",
    "\n",
    "The examples so far used domain decomposition but no mesh refinement. This time, we alter the previous example\n",
    "to work on hierarchy of meshes. We now have a `Vector<BoxArray>`, `Vector<DistributionMapping>`, `Vector<Geometry>`,\n",
    "and a `Vector<IntVect>` telling us the refinement ratios between levels. We set up the grids to refine the central region of the domain with each level:\n",
    "\n",
    "```C++\n",
    "    Box domain = base_domain;\n",
    "    IntVect size = IntVect(AMREX_D_DECL(parms.nx, parms.ny, parms.nz));\n",
    "    for (int lev = 0; lev < parms.nlevs; ++lev)\n",
    "    {\n",
    "        ba[lev].define(domain);\n",
    "        ba[lev].maxSize(parms.max_grid_size);\n",
    "        dm[lev].define(ba[lev]);\n",
    "        domain.grow(-size/4);   // fine level cover the middle of the coarse domain\n",
    "        domain.refine(2);\n",
    "    }\n",
    "```\n",
    "\n",
    "We again use \"Cloud in cell\" interpolation with randomly positioned particles. To handle particles near coarse-fine interfaces, we use the following algorithm. Particles with positions on the coarse level are deposited with the coarse cell spacing, and any mass that lands under a fine level is interpolated using piece-wise constant interpolation. Particles on the fine level are deposited with the fine cell spacing, and mass that \"hangs off\" the fine level is added to the coarse cell below it. \n",
    "\n",
    "The inputs parameters are the same as before, except you can now specify the number of levels to use as `nlevs`."
   ]
  },
  {
   "cell_type": "code",
   "execution_count": null,
   "id": "83170d52",
   "metadata": {},
   "outputs": [],
   "source": [
    "import yt"
   ]
  },
  {
   "cell_type": "code",
   "execution_count": null,
   "id": "b1a070d3",
   "metadata": {},
   "outputs": [],
   "source": [
    "ds = yt.load(\"plt00000\")"
   ]
  },
  {
   "cell_type": "code",
   "execution_count": null,
   "id": "cac891d9",
   "metadata": {},
   "outputs": [],
   "source": [
    "sl = yt.SlicePlot(ds, 2, 'density')"
   ]
  },
  {
   "cell_type": "code",
   "execution_count": null,
   "id": "cdee59ea",
   "metadata": {},
   "outputs": [],
   "source": [
    "sl.annotate_grids()"
   ]
  },
  {
   "cell_type": "code",
   "execution_count": null,
   "id": "81f8fd11",
   "metadata": {},
   "outputs": [],
   "source": [
    "ad = ds.all_data()\n",
    "ad.quantities.weighted_average_quantity('density', 'cell_volume')"
   ]
  }
 ],
 "metadata": {
  "kernelspec": {
   "display_name": "Python 3",
   "language": "python",
   "name": "python3"
  },
  "language_info": {
   "codemirror_mode": {
    "name": "ipython",
    "version": 3
   },
   "file_extension": ".py",
   "mimetype": "text/x-python",
   "name": "python",
   "nbconvert_exporter": "python",
   "pygments_lexer": "ipython3",
   "version": "3.8.8"
  }
 },
 "nbformat": 4,
 "nbformat_minor": 5
}
